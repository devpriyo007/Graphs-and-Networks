{
 "cells": [
  {
   "cell_type": "code",
   "execution_count": 194,
   "id": "7d1ce688",
   "metadata": {},
   "outputs": [
    {
     "name": "stdout",
     "output_type": "stream",
     "text": [
      "[[109, 526], [29, 1051], [50, 1644], [141, 723], [87, 314], [162, 1944], [76, 33], [199, 1169], [97, 1879], [17, 1248], [54, 325], [129, 1044], [43, 1527], [166, 168], [64, 1912], [101, 538], [21, 1081], [10, 280], [133, 1308], [47, 1163], [186, 1720], [68, 1049], [121, 300], [14, 1623], [153, 1780], [35, 809], [190, 206], [88, 105], [125, 1722], [2, 1231], [157, 1286], [39, 1323], [178, 1039], [92, 1673], [113, 1668], [6, 1852], [145, 1054], [59, 1530], [182, 629], [80, 481], [171, 566], [117, 900], [192, 460], [106, 132], [26, 729], [149, 322], [63, 1575], [138, 963], [84, 1137]]\n"
     ]
    }
   ],
   "source": [
    "import csv\n",
    "import numpy as np\n",
    "from random import randint\n",
    "from operator import itemgetter\n",
    "from collections import deque\n",
    "\n",
    "\n",
    "AllEdges = set()\n",
    "for i in range(0,1000000):  \n",
    "    x, y = randint(0, 199), randint(0,199)\n",
    "    AllEdges.add((x, y))\n",
    "    \n",
    "totalEdges = 0 #Number of edges in the graph\n",
    "totalNodes = 200 #Number of nodes in the graph\n",
    "    \n",
    "'''\n",
    "Creating input for running the algorithm. \n",
    "'''\n",
    "\n",
    "file = \"C:/Users/91858/Downloads/data for Dijkstra.csv\"\n",
    "with open(file, 'w', newline='') as file:\n",
    "    writer = csv.writer(file)\n",
    "    writer.writerow([\"tail\", \"head\", \"cost\",\"capacity\"])\n",
    "    for edge in AllEdges:\n",
    "        writer.writerow([edge[0], edge[1], np.random.randint(10,2000),0])\n",
    "        totalEdges = totalEdges + 1\n",
    "        if totalEdges == int(50*199):  #For edge density of 50% \n",
    "        #if totalEdges == int(75*199): #For edge density of 75%\n",
    "        #if totalEdges == int(100*199):  #For edge density of 100%\n",
    "            break\n",
    "            \n",
    "'''\n",
    "Creating an adjacency list using the .csv data.\n",
    "'''\n",
    "\n",
    "AdjList = [] \n",
    "\n",
    "file = open('C:/Users/91858/Downloads/data for Dijkstra.csv')\n",
    "csv = csv.reader(file) \n",
    "data = []\n",
    "\n",
    "for row in csv:\n",
    "    data.append(row)\n",
    "\n",
    "for i in range(totalNodes):\n",
    "    AdjList.append([])\n",
    "\n",
    "for i in range(1, totalEdges+1):\n",
    "    AdjList[int(data[i][0])].append([int(data[i][1]), int(data[i][2])])\n",
    "print(AdjList[0])"
   ]
  },
  {
   "cell_type": "code",
   "execution_count": 195,
   "id": "98b8a435",
   "metadata": {},
   "outputs": [
    {
     "name": "stdout",
     "output_type": "stream",
     "text": [
      "293\n"
     ]
    }
   ],
   "source": [
    "'''\n",
    "Dijkstra's Algorithm.\n",
    "'''\n",
    "source = 0 #Source node s\n",
    "terminal = 199 #Terminal node t\n",
    "\n",
    "distance = []\n",
    "for i in range(totalNodes):\n",
    "    if i==source:\n",
    "        distance.append(int(0))\n",
    "    else:\n",
    "        distance.append(int(999999))\n",
    "    \n",
    "fixed = []\n",
    "fixed.append(int(source))\n",
    "\n",
    "chosen = int(source)\n",
    "\n",
    "iterCount = 0\n",
    "while terminal not in fixed and count!=totalNodes:\n",
    "    edges = AdjList[chosen] \n",
    "    for j in range(len(edges)):\n",
    "        iterCount+=1\n",
    "        if edges[j][0] not in fixed:\n",
    "            if distance[edges[j][0]]>distance[chosen]+edges[j][1]:\n",
    "                distance[edges[j][0]]=int(distance[chosen]+edges[j][1])\n",
    "                \n",
    "    minimum = 999999\n",
    "    nextIndex = 999999\n",
    "    for k in range(0,totalNodes):\n",
    "        iterCount += 1\n",
    "        if k not in fixed and distance[k]<minimum:\n",
    "            minimum = distance[k]\n",
    "            nextIndex = k\n",
    "    if nextIndex==999999:\n",
    "        break\n",
    "    else:\n",
    "        fixed.append(nextIndex) \n",
    "#         print(nextIndex)\n",
    "        chosen = int(nextIndex)\n",
    "        iterCount+=1\n",
    "        continue\n",
    "print(distance[terminal])          "
   ]
  },
  {
   "cell_type": "code",
   "execution_count": 196,
   "id": "e473e882",
   "metadata": {},
   "outputs": [
    {
     "data": {
      "text/plain": [
       "27330"
      ]
     },
     "execution_count": 196,
     "metadata": {},
     "output_type": "execute_result"
    }
   ],
   "source": [
    "iterCount\n",
    "# distance\n",
    "# # tempDist.append([edges[j][0], distance[edges[j][0]]])\n",
    "# # #             print(tempDist)\n",
    "# #     tempDist.sort(key=lambda x: x[1])\n",
    "# #     k = tempDist[0][0] \n",
    "# #     print(k)"
   ]
  },
  {
   "cell_type": "code",
   "execution_count": 159,
   "id": "5c9e1518",
   "metadata": {},
   "outputs": [],
   "source": [
    "# AdjList[151].sort(key=lambda x: x[1])"
   ]
  },
  {
   "cell_type": "code",
   "execution_count": 160,
   "id": "1de736d9",
   "metadata": {},
   "outputs": [
    {
     "data": {
      "text/plain": [
       "[[136, 27],\n",
       " [46, 39],\n",
       " [162, 70],\n",
       " [1, 89],\n",
       " [2, 94],\n",
       " [35, 103],\n",
       " [161, 104],\n",
       " [129, 111],\n",
       " [178, 123],\n",
       " [122, 144],\n",
       " [34, 188],\n",
       " [104, 194],\n",
       " [29, 195],\n",
       " [109, 215],\n",
       " [187, 258],\n",
       " [141, 263],\n",
       " [6, 277],\n",
       " [199, 298],\n",
       " [198, 308],\n",
       " [25, 309],\n",
       " [165, 335],\n",
       " [80, 336],\n",
       " [190, 345],\n",
       " [39, 353],\n",
       " [18, 357],\n",
       " [121, 375],\n",
       " [108, 453],\n",
       " [84, 495],\n",
       " [153, 607],\n",
       " [13, 609],\n",
       " [47, 623],\n",
       " [10, 625],\n",
       " [58, 660],\n",
       " [191, 661],\n",
       " [132, 662],\n",
       " [97, 683],\n",
       " [88, 688],\n",
       " [48, 747],\n",
       " [166, 760],\n",
       " [76, 761],\n",
       " [113, 784],\n",
       " [95, 821],\n",
       " [101, 824],\n",
       " [114, 842],\n",
       " [92, 855],\n",
       " [96, 863],\n",
       " [81, 878],\n",
       " [124, 892],\n",
       " [186, 947],\n",
       " [117, 963],\n",
       " [182, 978],\n",
       " [21, 987],\n",
       " [149, 997],\n",
       " [68, 1030],\n",
       " [105, 1037],\n",
       " [146, 1056],\n",
       " [150, 1071],\n",
       " [63, 1076],\n",
       " [38, 1095],\n",
       " [157, 1109],\n",
       " [79, 1111],\n",
       " [75, 1141],\n",
       " [55, 1149],\n",
       " [140, 1150],\n",
       " [30, 1157],\n",
       " [71, 1192],\n",
       " [17, 1196],\n",
       " [128, 1229],\n",
       " [59, 1242],\n",
       " [192, 1255],\n",
       " [179, 1269],\n",
       " [100, 1307],\n",
       " [133, 1353],\n",
       " [72, 1439],\n",
       " [195, 1461],\n",
       " [85, 1479],\n",
       " [156, 1507],\n",
       " [9, 1553],\n",
       " [126, 1604],\n",
       " [137, 1608],\n",
       " [5, 1642],\n",
       " [42, 1650],\n",
       " [67, 1658],\n",
       " [154, 1664],\n",
       " [125, 1667],\n",
       " [22, 1718],\n",
       " [169, 1734],\n",
       " [145, 1738],\n",
       " [26, 1744],\n",
       " [170, 1807],\n",
       " [118, 1833],\n",
       " [91, 1839],\n",
       " [12, 1848],\n",
       " [43, 1911],\n",
       " [183, 1911],\n",
       " [173, 1928],\n",
       " [51, 1937],\n",
       " [64, 1960],\n",
       " [174, 1970],\n",
       " [62, 1982]]"
      ]
     },
     "execution_count": 160,
     "metadata": {},
     "output_type": "execute_result"
    }
   ],
   "source": [
    "# AdjList[151]"
   ]
  },
  {
   "cell_type": "code",
   "execution_count": null,
   "id": "7ed8cc73",
   "metadata": {},
   "outputs": [],
   "source": []
  }
 ],
 "metadata": {
  "kernelspec": {
   "display_name": "Python 3 (ipykernel)",
   "language": "python",
   "name": "python3"
  },
  "language_info": {
   "codemirror_mode": {
    "name": "ipython",
    "version": 3
   },
   "file_extension": ".py",
   "mimetype": "text/x-python",
   "name": "python",
   "nbconvert_exporter": "python",
   "pygments_lexer": "ipython3",
   "version": "3.7.11"
  }
 },
 "nbformat": 4,
 "nbformat_minor": 5
}
