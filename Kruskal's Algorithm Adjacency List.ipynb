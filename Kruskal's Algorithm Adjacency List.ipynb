{
 "cells": [
  {
   "cell_type": "code",
   "execution_count": 20,
   "id": "1994d4da",
   "metadata": {},
   "outputs": [],
   "source": [
    "import csv\n",
    "import numpy as np\n",
    "from random import randint\n",
    "from operator import itemgetter\n",
    "from collections import deque"
   ]
  },
  {
   "cell_type": "code",
   "execution_count": 21,
   "id": "1327bef1",
   "metadata": {},
   "outputs": [],
   "source": [
    "'''\n",
    "The following code implements the Kruskal's Algorithm using the Adjacency list representation of a graph. The graph consists \n",
    "of n = 200 nodes, with varying edge densities of 50%, 75%, and 100%. Corresponding to each varying edge density, there is a .csv\n",
    "file that is being taken as an input, the format of which is <tail><head><cost><capacity>, although the capacity column is not\n",
    "needed for the Kruskal's Algorithm.\n",
    "\n",
    "The .csv file will be created randomly, with the check that none of the edges are being repeated in random generation.\n",
    "The inbuilt set function will be used to ensure the same. \n",
    "'''\n",
    "\n",
    "AllEdges = set() #The set function ensures that duplicate edges are not present\n",
    "for count in range(0,1000000):  #We run this loop for more than nC2 (n is the number of nodes) times to ensure that (almost) all possible edges have been \n",
    "    #considered in the set. Note that however, this is not guaranteed, since the nodes correspong to the edges are being\n",
    "    #generated randomly\n",
    "    i, j = np.random.randint(0, 199), np.random.randint(0,199)\n",
    "    AllEdges.add((i, j))\n",
    "    \n",
    "totalEdges = 0 #Number of edges in the graph\n",
    "totalNodes = 200 #Number of nodes in the graph\n",
    "    \n",
    "'''\n",
    "Creating input for running the algorithm. \n",
    "'''\n",
    "\n",
    "file = \"C:/Users/91858/Downloads/data for kruskal - Sheet1.csv\"\n",
    "with open(file, 'w', newline='') as file:\n",
    "    writer = csv.writer(file)\n",
    "    writer.writerow([\"tail\", \"head\", \"cost\",\"capacity\"])\n",
    "    for edge in AllEdges:\n",
    "        writer.writerow([edge[0], edge[1], np.random.randint(10,2000),0])\n",
    "        totalEdges = totalEdges + 1\n",
    "        if totalEdges == int(50*199):  #For edge density of 50% \n",
    "        #if totalEdges == int(75*199): #For edge density of 75%\n",
    "        #if totalEdges == int(100*199):  #For edge density of 100%\n",
    "            break"
   ]
  },
  {
   "cell_type": "code",
   "execution_count": 22,
   "id": "89b48e6e",
   "metadata": {},
   "outputs": [],
   "source": [
    "'''\n",
    "Creating an adjacency list using the .csv data.\n",
    "'''\n",
    "\n",
    "AdjList = [] \n",
    "\n",
    "file = open('C:/Users/91858/Downloads/data for kruskal - Sheet1.csv')\n",
    "csv = csv.reader(file) \n",
    "data = []\n",
    "\n",
    "'''\n",
    "The elements of the queue are of the form <tail><head><cost>. The queue of edges will be created using the adjacency list\n",
    "'''\n",
    "queue = []\n",
    "\n",
    "\n",
    "for row in csv:\n",
    "    data.append(row)\n",
    "\n",
    "for i in range(totalNodes):\n",
    "    AdjList.append([])\n",
    "\n",
    "'''\n",
    "Here, note that the adjacency list will have the entry <node j><cost> corresponding to <node i>. The entry <node i><cost> \n",
    "corresponding to <node j> can be skipped, since we are considering an undirected graph, i.e., if edge (u,v) \n",
    "[and therefore (v,u)] has the least cost in current iteration, then the nodes u, v will be marked, thereby marking edge (v,u)\n",
    "automatically.\n",
    "'''\n",
    "for i in range(1, totalEdges+1):\n",
    "    AdjList[int(data[i][0])].append([data[i][1], data[i][2]])\n",
    "#     AdjList[int(data[i][1])].append([data[i][0], data[i][2]])\n",
    "\n",
    "#adding elements to the queue, i.e., creating an edge list\n",
    "for i in range(len(AdjList)):\n",
    "    for j in range(len(AdjList[i])):\n",
    "        queue.append([i, int(AdjList[i][j][0]), int(AdjList[i][j][1])])\n",
    "        \n",
    "queue.sort(key=lambda x: x[2]) #sorting the list of edges according to the costs in ascending order\n"
   ]
  },
  {
   "cell_type": "code",
   "execution_count": 23,
   "id": "bb6163cd",
   "metadata": {},
   "outputs": [
    {
     "name": "stdout",
     "output_type": "stream",
     "text": [
      "[[0, 14], [85, 155], [85, 6], [112, 46], [124, 28], [139, 85], [6, 33], [39, 70], [53, 139], [93, 28], [157, 14], [95, 117], [122, 67], [146, 58], [17, 63], [24, 18], [32, 164], [70, 49], [90, 17], [177, 19], [54, 76], [57, 81], [57, 6], [63, 23], [1, 23], [4, 149], [7, 183], [14, 40], [15, 84], [133, 42], [174, 142], [174, 46], [186, 65], [33, 97], [43, 190], [115, 129], [62, 28], [76, 116], [98, 164], [113, 157], [138, 176], [144, 154], [191, 85], [58, 145], [71, 1], [71, 195], [86, 98], [175, 184], [39, 161], [61, 40], [108, 102], [109, 5], [124, 39], [153, 136], [31, 39], [59, 86], [59, 196], [78, 97], [31, 178], [45, 188], [54, 1], [71, 55], [150, 11], [182, 88], [28, 133], [45, 44], [57, 39], [76, 197], [109, 106], [171, 148], [178, 25], [189, 118], [24, 91], [24, 72], [49, 162], [95, 35], [3, 66], [24, 32], [66, 141], [168, 5], [180, 77], [50, 94], [162, 30], [5, 70], [27, 33], [34, 125], [78, 10], [92, 194], [142, 56], [59, 151], [66, 156], [83, 60], [85, 134], [12, 113], [30, 154], [47, 154], [51, 93], [72, 0], [84, 45], [90, 153], [104, 115], [110, 122], [119, 120], [140, 141], [188, 108], [112, 54], [128, 65], [159, 92], [177, 147], [188, 99], [72, 184], [89, 112], [91, 100], [122, 110], [140, 48], [53, 14], [87, 16], [107, 167], [150, 145], [8, 71], [19, 122], [20, 153], [34, 145], [184, 15], [17, 1], [40, 104], [45, 157], [65, 112], [71, 24], [104, 143], [142, 93], [170, 1], [173, 174], [192, 92], [195, 104], [29, 193], [39, 16], [122, 36], [166, 128], [188, 176], [88, 121], [95, 59], [108, 126], [4, 136], [44, 3], [62, 143], [154, 72], [189, 39], [191, 22], [194, 63], [23, 106], [57, 89], [64, 5], [154, 192], [25, 138], [27, 107], [47, 146], [65, 34], [119, 24], [59, 82], [51, 185], [124, 110], [125, 28], [143, 188], [7, 102], [20, 176], [45, 137], [76, 99], [130, 88], [146, 41], [152, 33], [185, 157], [186, 194], [26, 146], [29, 144], [80, 3], [91, 58], [112, 20], [153, 56], [89, 14], [106, 77], [110, 142], [112, 100], [162, 98], [181, 13], [0, 145], [46, 150], [63, 184], [67, 137], [84, 37], [128, 56], [135, 189], [37, 53], [48, 28], [54, 144], [65, 46], [19, 147], [48, 167], [56, 84]]\n"
     ]
    }
   ],
   "source": [
    "'''\n",
    "Kruskal's Algorithm\n",
    "'''\n",
    "#Minimum spanning tree, initially empty\n",
    "MST = []\n",
    "MSTcost = 0\n",
    "\n",
    "group = []\n",
    "for i in range(totalNodes):\n",
    "    group.append(i)\n",
    "iterCount = 0\n",
    "\n",
    "while(len(MST)!=totalNodes-1 and len(queue)!=0):\n",
    "    Set = queue.pop(0) #considering the least weighted edge at the beginning of the sorted queue\n",
    "    if(group[Set[0]] == group[Set[1]]):\n",
    "        continue\n",
    "    MST.append([Set[0], Set[1]]) \n",
    "    MSTcost = MSTcost + int(Set[2])\n",
    "    for node in range(totalNodes):\n",
    "        iterCount = iterCount + 1\n",
    "        if group[node]== Set[1]:\n",
    "#             iterCount = iterCount + 1\n",
    "            group[node]== Set[0]\n",
    "\n",
    "if len(MST)!=totalNodes-1 :\n",
    "    print(\"No Spanning tree exists in the given graph\")\n",
    "else:\n",
    "    print(MST)\n"
   ]
  },
  {
   "cell_type": "code",
   "execution_count": 11,
   "id": "656cb1ae",
   "metadata": {},
   "outputs": [
    {
     "data": {
      "text/plain": [
       "39800"
      ]
     },
     "execution_count": 11,
     "metadata": {},
     "output_type": "execute_result"
    }
   ],
   "source": [
    "iterCount"
   ]
  },
  {
   "cell_type": "markdown",
   "id": "b27d5ad7",
   "metadata": {},
   "source": [
    "For the case of $n=200$ nodes and edge density of $50\\%, 75\\%, 100\\%$ (viz. 9950, 14925, and 19900 edges), the iteration count will be the same always. This is true, because the Kruskal's algorithm $\\textbf{will always}$ find a minimum spanning tree/forest, if the number of edges are larger than the number of nodes in a graph. Therefore, in the cases where edges are much more than the number of nodes, the outer while loop will stop as soon as the cardinality of the MST becomes $n$ - 1. The inner for loop, which checks whether the nodes are in the same or distinct groups, will run for exactly $n$ iterations for every single iteration of the while loop, where $n$ is the number of nodes. Hence, the total iteration count will remain the same. "
   ]
  },
  {
   "cell_type": "code",
   "execution_count": null,
   "id": "931be3cf",
   "metadata": {},
   "outputs": [],
   "source": []
  }
 ],
 "metadata": {
  "kernelspec": {
   "display_name": "Python 3 (ipykernel)",
   "language": "python",
   "name": "python3"
  },
  "language_info": {
   "codemirror_mode": {
    "name": "ipython",
    "version": 3
   },
   "file_extension": ".py",
   "mimetype": "text/x-python",
   "name": "python",
   "nbconvert_exporter": "python",
   "pygments_lexer": "ipython3",
   "version": "3.7.11"
  }
 },
 "nbformat": 4,
 "nbformat_minor": 5
}
