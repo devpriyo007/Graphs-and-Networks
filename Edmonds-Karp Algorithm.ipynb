{
 "cells": [
  {
   "cell_type": "code",
   "execution_count": 96,
   "id": "f0db9ca9",
   "metadata": {},
   "outputs": [],
   "source": [
    "'''\n",
    "The following code implements the Edmonds-Karp algorithm to find out the maximum flow in a network. We utilise the \n",
    "capacity matrix representation of a graph. The same matrix can be used to run the Breadth First Search(BFS) subroutine, which\n",
    "is a key component of the Edmonds-Karp algorithm. Note that, however, we are defining the shortest path in terms of the number\n",
    "of arcs between the source and the sink. Therefore, as long as the capacities are positive, we do not care about paths with larger\n",
    "capacity.\n",
    "'''\n",
    "\n",
    "#Defining BFS function for our algorithm\n",
    "def BFS(CapMatrix, source, terminal):\n",
    "    queue = [source]\n",
    "    path = {source: []}\n",
    "\n",
    "    while queue: \n",
    "        source = queue.pop(0)\n",
    "        for destination in range(len(CapMatrix)): # len(CapMatrix) = 200, for n=200 nodes\n",
    "            if CapMatrix[source][destination] > 0 and destination not in path: #Exploring all edges with positive capacity\n",
    "                #Note that over here we are not concerned with the exact capacity, since for a shortest path, we nee to only\n",
    "                #consider the one with least number of edges. This is equivalent to applying BFS with each arc cost set as 1.\n",
    "                path[destination] = path[source] + [(source, destination)] \n",
    "                if destination == terminal:\n",
    "                    return path[destination] #Returns the path\n",
    "                queue.append(destination)\n",
    "\n",
    "    return None #If no path exists from source to terminal\n",
    "\n",
    "\n",
    "def EdmondsKarp(CapMatrix, source, terminal):\n",
    "    maxFlow = 0\n",
    "\n",
    "    while True:\n",
    "        AugmentingPath = BFS(CapMatrix, source, terminal) #We start by sending flow through the smallest path in Edmonds-Karp algorithm\n",
    "#         print(AugmentingPath)\n",
    "        if AugmentingPath is None:\n",
    "            break\n",
    "        flow = min(CapMatrix[i][j] for i, j in AugmentingPath) #Amount of flow to be sent via the path found using BFS\n",
    "        for i, j in AugmentingPath:\n",
    "            CapMatrix[i][j] -= flow #Adjusting flow\n",
    "            CapMatrix[j][i] += flow #Adjusting residual flow\n",
    "        maxFlow += flow\n",
    "\n",
    "    return maxFlow"
   ]
  },
  {
   "cell_type": "code",
   "execution_count": 98,
   "id": "81fdfda0",
   "metadata": {},
   "outputs": [
    {
     "data": {
      "text/plain": [
       "25"
      ]
     },
     "execution_count": 98,
     "metadata": {},
     "output_type": "execute_result"
    }
   ],
   "source": [
    "import csv\n",
    "import numpy as np\n",
    "from random import randint\n",
    "from operator import itemgetter\n",
    "from collections import deque\n",
    "\n",
    "\n",
    "AllEdges = set()\n",
    "for count in range(0,1000000):  \n",
    "    i, j = randint(0, 199), randint(0,199)\n",
    "    AllEdges.add((i, j))\n",
    "    \n",
    "totalArcs = 0 #Number of arcs in the graph\n",
    "totalNodes = 200 #Number of nodes in the graph\n",
    "    \n",
    "'''\n",
    "Creating input for running the algorithm. \n",
    "'''\n",
    "\n",
    "file = \"C:/Users/91858/Downloads/data for Edmonds-Karp.csv\"\n",
    "with open(file, 'w', newline='') as file:\n",
    "    writer = csv.writer(file)\n",
    "    writer.writerow([\"tail\", \"head\", \"cost\",\"capacity\"])\n",
    "    for edge in AllEdges:\n",
    "        writer.writerow([edge[0], edge[1], 0, np.random.randint(10,20)])\n",
    "        totalArcs = totalArcs + 1\n",
    "        if totalArcs == int(500):  #For edge density of 50% \n",
    "        #if totalEdges == int(75*199): #For edge density of 75%\n",
    "        #if totalEdges == int(100*199):  #For edge density of 100%\n",
    "            break\n",
    "\n",
    "'''\n",
    "Creating capacity matrix using the .csv file\n",
    "'''\n",
    "CapMatrix = [[0 for i in range(totalNodes)] for j in range(totalNodes)] #the matrix is initialised with all zeros\n",
    "\n",
    "file = open('C:/Users/91858/Downloads/data for Edmonds-Karp.csv')\n",
    "csv = csv.reader(file) \n",
    "data = []\n",
    "\n",
    "for row in csv:\n",
    "    data.append(row)\n",
    "\n",
    "source = 2 #Source node s\n",
    "terminal = 36 #Terminal node t\n",
    "\n",
    "for i in range(1, totalArcs+1): \n",
    "    CapMatrix[int(data[i][0])][int(data[i][1])] = CapMatrix[int(data[i][0])][int(data[i][1])] + int(data[i][3])\n",
    "\n",
    "EdmondsKarp(CapMatrix, source, terminal)"
   ]
  },
  {
   "cell_type": "code",
   "execution_count": null,
   "id": "7c8f9eac",
   "metadata": {},
   "outputs": [],
   "source": []
  }
 ],
 "metadata": {
  "kernelspec": {
   "display_name": "Python 3 (ipykernel)",
   "language": "python",
   "name": "python3"
  },
  "language_info": {
   "codemirror_mode": {
    "name": "ipython",
    "version": 3
   },
   "file_extension": ".py",
   "mimetype": "text/x-python",
   "name": "python",
   "nbconvert_exporter": "python",
   "pygments_lexer": "ipython3",
   "version": "3.7.11"
  }
 },
 "nbformat": 4,
 "nbformat_minor": 5
}
